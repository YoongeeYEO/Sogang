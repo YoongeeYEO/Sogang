{
 "cells": [
  {
   "cell_type": "markdown",
   "metadata": {
    "id": "WFgOkVLY1RtX"
   },
   "source": [
    "## Keyword 통계기반 데이터 분석"
   ]
  },
  {
   "cell_type": "code",
   "execution_count": null,
   "metadata": {
    "id": "cKFQeiVp1Rtb"
   },
   "outputs": [],
   "source": [
    "import numpy as np\n",
    "import pandas as pd\n",
    "import csv"
   ]
  },
  {
   "cell_type": "code",
   "execution_count": null,
   "metadata": {
    "colab": {
     "base_uri": "https://localhost:8080/",
     "height": 424
    },
    "id": "Ygabpn3b7dko",
    "outputId": "d27cff76-45f7-400f-9e1f-79967c088177"
   },
   "outputs": [
    {
     "data": {
      "text/html": [
       "\n",
       "  <div id=\"df-7c1c7ebe-b8c1-40eb-8e7f-7dd1f94aa3c4\">\n",
       "    <div class=\"colab-df-container\">\n",
       "      <div>\n",
       "<style scoped>\n",
       "    .dataframe tbody tr th:only-of-type {\n",
       "        vertical-align: middle;\n",
       "    }\n",
       "\n",
       "    .dataframe tbody tr th {\n",
       "        vertical-align: top;\n",
       "    }\n",
       "\n",
       "    .dataframe thead th {\n",
       "        text-align: right;\n",
       "    }\n",
       "</style>\n",
       "<table border=\"1\" class=\"dataframe\">\n",
       "  <thead>\n",
       "    <tr style=\"text-align: right;\">\n",
       "      <th></th>\n",
       "      <th>Unnamed: 0</th>\n",
       "      <th>food</th>\n",
       "      <th>kind</th>\n",
       "      <th>fresh</th>\n",
       "      <th>parking</th>\n",
       "      <th>price</th>\n",
       "      <th>clean</th>\n",
       "      <th>satisfaction</th>\n",
       "    </tr>\n",
       "  </thead>\n",
       "  <tbody>\n",
       "    <tr>\n",
       "      <th>0</th>\n",
       "      <td>키다리횟집</td>\n",
       "      <td>33</td>\n",
       "      <td>17</td>\n",
       "      <td>20</td>\n",
       "      <td>10</td>\n",
       "      <td>9</td>\n",
       "      <td>12</td>\n",
       "      <td>3.52</td>\n",
       "    </tr>\n",
       "    <tr>\n",
       "      <th>1</th>\n",
       "      <td>화덕본가</td>\n",
       "      <td>52</td>\n",
       "      <td>19</td>\n",
       "      <td>13</td>\n",
       "      <td>4</td>\n",
       "      <td>2</td>\n",
       "      <td>10</td>\n",
       "      <td>3.48</td>\n",
       "    </tr>\n",
       "    <tr>\n",
       "      <th>2</th>\n",
       "      <td>미주뚝배기</td>\n",
       "      <td>45</td>\n",
       "      <td>18</td>\n",
       "      <td>20</td>\n",
       "      <td>3</td>\n",
       "      <td>7</td>\n",
       "      <td>7</td>\n",
       "      <td>3.50</td>\n",
       "    </tr>\n",
       "    <tr>\n",
       "      <th>3</th>\n",
       "      <td>전원아구찜</td>\n",
       "      <td>60</td>\n",
       "      <td>17</td>\n",
       "      <td>10</td>\n",
       "      <td>0</td>\n",
       "      <td>13</td>\n",
       "      <td>0</td>\n",
       "      <td>3.81</td>\n",
       "    </tr>\n",
       "    <tr>\n",
       "      <th>4</th>\n",
       "      <td>성심농장가든</td>\n",
       "      <td>36</td>\n",
       "      <td>21</td>\n",
       "      <td>14</td>\n",
       "      <td>17</td>\n",
       "      <td>5</td>\n",
       "      <td>6</td>\n",
       "      <td>3.32</td>\n",
       "    </tr>\n",
       "    <tr>\n",
       "      <th>...</th>\n",
       "      <td>...</td>\n",
       "      <td>...</td>\n",
       "      <td>...</td>\n",
       "      <td>...</td>\n",
       "      <td>...</td>\n",
       "      <td>...</td>\n",
       "      <td>...</td>\n",
       "      <td>...</td>\n",
       "    </tr>\n",
       "    <tr>\n",
       "      <th>244</th>\n",
       "      <td>인혜돌곱창</td>\n",
       "      <td>50</td>\n",
       "      <td>19</td>\n",
       "      <td>8</td>\n",
       "      <td>12</td>\n",
       "      <td>8</td>\n",
       "      <td>4</td>\n",
       "      <td>3.86</td>\n",
       "    </tr>\n",
       "    <tr>\n",
       "      <th>245</th>\n",
       "      <td>청학산</td>\n",
       "      <td>43</td>\n",
       "      <td>10</td>\n",
       "      <td>15</td>\n",
       "      <td>15</td>\n",
       "      <td>18</td>\n",
       "      <td>0</td>\n",
       "      <td>3.76</td>\n",
       "    </tr>\n",
       "    <tr>\n",
       "      <th>246</th>\n",
       "      <td>삼산이수</td>\n",
       "      <td>43</td>\n",
       "      <td>15</td>\n",
       "      <td>4</td>\n",
       "      <td>28</td>\n",
       "      <td>7</td>\n",
       "      <td>4</td>\n",
       "      <td>3.57</td>\n",
       "    </tr>\n",
       "    <tr>\n",
       "      <th>247</th>\n",
       "      <td>남해어부림</td>\n",
       "      <td>34</td>\n",
       "      <td>19</td>\n",
       "      <td>19</td>\n",
       "      <td>8</td>\n",
       "      <td>8</td>\n",
       "      <td>12</td>\n",
       "      <td>3.62</td>\n",
       "    </tr>\n",
       "    <tr>\n",
       "      <th>248</th>\n",
       "      <td>풍전복집</td>\n",
       "      <td>55</td>\n",
       "      <td>14</td>\n",
       "      <td>14</td>\n",
       "      <td>0</td>\n",
       "      <td>9</td>\n",
       "      <td>9</td>\n",
       "      <td>3.66</td>\n",
       "    </tr>\n",
       "  </tbody>\n",
       "</table>\n",
       "<p>249 rows × 8 columns</p>\n",
       "</div>\n",
       "      <button class=\"colab-df-convert\" onclick=\"convertToInteractive('df-7c1c7ebe-b8c1-40eb-8e7f-7dd1f94aa3c4')\"\n",
       "              title=\"Convert this dataframe to an interactive table.\"\n",
       "              style=\"display:none;\">\n",
       "        \n",
       "  <svg xmlns=\"http://www.w3.org/2000/svg\" height=\"24px\"viewBox=\"0 0 24 24\"\n",
       "       width=\"24px\">\n",
       "    <path d=\"M0 0h24v24H0V0z\" fill=\"none\"/>\n",
       "    <path d=\"M18.56 5.44l.94 2.06.94-2.06 2.06-.94-2.06-.94-.94-2.06-.94 2.06-2.06.94zm-11 1L8.5 8.5l.94-2.06 2.06-.94-2.06-.94L8.5 2.5l-.94 2.06-2.06.94zm10 10l.94 2.06.94-2.06 2.06-.94-2.06-.94-.94-2.06-.94 2.06-2.06.94z\"/><path d=\"M17.41 7.96l-1.37-1.37c-.4-.4-.92-.59-1.43-.59-.52 0-1.04.2-1.43.59L10.3 9.45l-7.72 7.72c-.78.78-.78 2.05 0 2.83L4 21.41c.39.39.9.59 1.41.59.51 0 1.02-.2 1.41-.59l7.78-7.78 2.81-2.81c.8-.78.8-2.07 0-2.86zM5.41 20L4 18.59l7.72-7.72 1.47 1.35L5.41 20z\"/>\n",
       "  </svg>\n",
       "      </button>\n",
       "      \n",
       "  <style>\n",
       "    .colab-df-container {\n",
       "      display:flex;\n",
       "      flex-wrap:wrap;\n",
       "      gap: 12px;\n",
       "    }\n",
       "\n",
       "    .colab-df-convert {\n",
       "      background-color: #E8F0FE;\n",
       "      border: none;\n",
       "      border-radius: 50%;\n",
       "      cursor: pointer;\n",
       "      display: none;\n",
       "      fill: #1967D2;\n",
       "      height: 32px;\n",
       "      padding: 0 0 0 0;\n",
       "      width: 32px;\n",
       "    }\n",
       "\n",
       "    .colab-df-convert:hover {\n",
       "      background-color: #E2EBFA;\n",
       "      box-shadow: 0px 1px 2px rgba(60, 64, 67, 0.3), 0px 1px 3px 1px rgba(60, 64, 67, 0.15);\n",
       "      fill: #174EA6;\n",
       "    }\n",
       "\n",
       "    [theme=dark] .colab-df-convert {\n",
       "      background-color: #3B4455;\n",
       "      fill: #D2E3FC;\n",
       "    }\n",
       "\n",
       "    [theme=dark] .colab-df-convert:hover {\n",
       "      background-color: #434B5C;\n",
       "      box-shadow: 0px 1px 3px 1px rgba(0, 0, 0, 0.15);\n",
       "      filter: drop-shadow(0px 1px 2px rgba(0, 0, 0, 0.3));\n",
       "      fill: #FFFFFF;\n",
       "    }\n",
       "  </style>\n",
       "\n",
       "      <script>\n",
       "        const buttonEl =\n",
       "          document.querySelector('#df-7c1c7ebe-b8c1-40eb-8e7f-7dd1f94aa3c4 button.colab-df-convert');\n",
       "        buttonEl.style.display =\n",
       "          google.colab.kernel.accessAllowed ? 'block' : 'none';\n",
       "\n",
       "        async function convertToInteractive(key) {\n",
       "          const element = document.querySelector('#df-7c1c7ebe-b8c1-40eb-8e7f-7dd1f94aa3c4');\n",
       "          const dataTable =\n",
       "            await google.colab.kernel.invokeFunction('convertToInteractive',\n",
       "                                                     [key], {});\n",
       "          if (!dataTable) return;\n",
       "\n",
       "          const docLinkHtml = 'Like what you see? Visit the ' +\n",
       "            '<a target=\"_blank\" href=https://colab.research.google.com/notebooks/data_table.ipynb>data table notebook</a>'\n",
       "            + ' to learn more about interactive tables.';\n",
       "          element.innerHTML = '';\n",
       "          dataTable['output_type'] = 'display_data';\n",
       "          await google.colab.output.renderOutput(dataTable, element);\n",
       "          const docLink = document.createElement('div');\n",
       "          docLink.innerHTML = docLinkHtml;\n",
       "          element.appendChild(docLink);\n",
       "        }\n",
       "      </script>\n",
       "    </div>\n",
       "  </div>\n",
       "  "
      ],
      "text/plain": [
       "    Unnamed: 0  food  kind  fresh  parking  price  clean  satisfaction\n",
       "0        키다리횟집    33    17     20       10      9     12          3.52\n",
       "1         화덕본가    52    19     13        4      2     10          3.48\n",
       "2        미주뚝배기    45    18     20        3      7      7          3.50\n",
       "3        전원아구찜    60    17     10        0     13      0          3.81\n",
       "4       성심농장가든    36    21     14       17      5      6          3.32\n",
       "..         ...   ...   ...    ...      ...    ...    ...           ...\n",
       "244      인혜돌곱창    50    19      8       12      8      4          3.86\n",
       "245        청학산    43    10     15       15     18      0          3.76\n",
       "246       삼산이수    43    15      4       28      7      4          3.57\n",
       "247      남해어부림    34    19     19        8      8     12          3.62\n",
       "248       풍전복집    55    14     14        0      9      9          3.66\n",
       "\n",
       "[249 rows x 8 columns]"
      ]
     },
     "execution_count": 2,
     "metadata": {},
     "output_type": "execute_result"
    }
   ],
   "source": [
    "df_data = pd.read_csv('/Assets/ranking1.csv')\n",
    "df_data"
   ]
  },
  {
   "cell_type": "code",
   "execution_count": null,
   "metadata": {
    "id": "Q1EGqQqFC1b1"
   },
   "outputs": [],
   "source": [
    "# Data\n",
    "import numpy as np\n",
    "import pandas as pd\n",
    "\n",
    "# Visualization\n",
    "import matplotlib.pyplot as plt\n",
    "import seaborn as sns\n",
    "import plotly.express as px\n",
    "import plotly.graph_objects as go\n",
    "\n",
    "#warning\n",
    "import warnings\n",
    "warnings.filterwarnings('ignore')"
   ]
  },
  {
   "cell_type": "code",
   "execution_count": null,
   "metadata": {
    "colab": {
     "base_uri": "https://localhost:8080/",
     "height": 279
    },
    "id": "q8TkyMUgBrvB",
    "outputId": "3a1a80a3-bf57-43c5-bbc5-dba582d6c0e9"
   },
   "outputs": [
    {
     "data": {
      "image/png": "[encoded data removed]",
      "text/plain": [
       "<Figure size 432x288 with 1 Axes>"
      ]
     },
     "metadata": {
      "needs_background": "light"
     },
     "output_type": "display_data"
    }
   ],
   "source": [
    "# 공분산 확인\n",
    "corr_df = df_data.corr()\n",
    "corr_df = corr_df.apply(lambda x: round(x ,2))\n",
    "corr_df\n",
    "\n",
    "s = corr_df.unstack()\n",
    "s\n",
    "\n",
    "# Series이므로 DataFrame으로 변경한다. \n",
    "df = pd.DataFrame(s[s < 1].sort_values(ascending=False), columns=['corr'])\n",
    "df.style.background_gradient(cmap='viridis')\n",
    "\n",
    "# scatterplot\n",
    "# food\tkind\tfresh\tparking\tprice\tclean\n",
    "ax = sns.scatterplot(data=corr_df, x=\"price\", y=\"satisfaction\", color='r')\n",
    "ax.axhline(0, color='grey', lw=1) # 수평선 추가\n",
    "ax.axvline(0, color='grey', lw=1) # 수직선 추가\n",
    "fig = ax.get_figure()"
   ]
  },
  {
   "cell_type": "code",
   "execution_count": null,
   "metadata": {
    "colab": {
     "base_uri": "https://localhost:8080/",
     "height": 317
    },
    "id": "sV0PQjv4DFy8",
    "outputId": "73ec6ab5-0aa8-4169-9db4-d6467e6ed990"
   },
   "outputs": [
    {
     "data": {
      "image/png": "[encoded data removed]",
      "text/plain": [
       "<Figure size 432x288 with 2 Axes>"
      ]
     },
     "metadata": {
      "needs_background": "light"
     },
     "output_type": "display_data"
    }
   ],
   "source": [
    "# 히트맵 확인\n",
    "ax = sns.heatmap(corr_df, annot=True, annot_kws=dict(color='g'), cmap='Greys')\n",
    "plt.show()"
   ]
  },
  {
   "cell_type": "code",
   "execution_count": null,
   "metadata": {
    "colab": {
     "base_uri": "https://localhost:8080/",
     "height": 288
    },
    "id": "_S9e4LfrZ8DP",
    "outputId": "f8ec46c8-81b6-471c-cfc5-a95e6dca0a22"
   },
   "outputs": [
    {
     "data": {
      "image/png": "[encoded data removed]",
      "text/plain": [
       "<Figure size 432x288 with 1 Axes>"
      ]
     },
     "metadata": {
      "needs_background": "light"
     },
     "output_type": "display_data"
    }
   ],
   "source": [
    "# 산점도 확인\n",
    "\n",
    "x = df_data[['food', 'kind', 'fresh', 'parking', 'price', 'clean']]\n",
    "\n",
    "x2= df_data[['price']]\n",
    "y = df_data[['satisfaction']]\n",
    "\n",
    "plt.scatter(x2,y) \n",
    "plt.xlabel('price', fontsize = 20) \n",
    "plt.ylabel('satisfaction', fontsize = 20) \n",
    "plt.show()"
   ]
  },
  {
   "cell_type": "code",
   "execution_count": null,
   "metadata": {
    "id": "oZNCj5xQlamh"
   },
   "outputs": [],
   "source": [
    "# 주성분 분석\n",
    "# https://jalynne-kim.medium.com/%EB%8D%B0%EC%9D%B4%ED%84%B0-%EC%82%AC%EC%9D%B4%EC%96%B8%EC%8A%A4-%EC%A3%BC%EC%84%B1%EB%B6%84-%EB%B6%84%EC%84%9D-pca-principal-component-analysis-%EA%B3%BC-biplot-%EA%B0%9C%EB%85%90%EA%B3%BC-%EC%82%AC%EB%A1%80-%EB%A0%88%EB%93%9C%EC%99%80%EC%9D%B8-%EB%8D%B0%EC%9D%B4%ED%84%B0-437283592031\n",
    "from sklearn.decomposition import PCA\n",
    "X = df_data[['food', 'kind', 'fresh', 'parking', 'price', 'clean']]\n",
    "pca=PCA(n_components=6)\n",
    "result_pca = pca.fit_transform(X)\n",
    "print(pca.components_)\n",
    "print(pca.explained_variance_)\n",
    "print(result_pca[:,:2])\n",
    "plt.scatter(result_pca[:,0],result_pca[:,1])\n",
    "plt.show()"
   ]
  },
  {
   "cell_type": "code",
   "execution_count": null,
   "metadata": {
    "colab": {
     "base_uri": "https://localhost:8080/",
     "height": 283
    },
    "id": "q7OU8m8GmY_d",
    "outputId": "0211ac6b-445a-45d8-b48e-d0ac4dce6cde"
   },
   "outputs": [
    {
     "data": {
      "image/png": "[encoded data removed]",
      "text/plain": [
       "<Figure size 432x288 with 1 Axes>"
      ]
     },
     "metadata": {
      "needs_background": "light"
     },
     "output_type": "display_data"
    }
   ],
   "source": [
    "# Biplot 시각화 \n",
    "def biplot(score,coeff,pcax,pcay,labels=None):\n",
    "  pca1=pcax-1\n",
    "  pca2=pcay-1\n",
    "  xs = score[:,pca1]\n",
    "  ys = score[:,pca2]\n",
    "  n=score.shape[1]\n",
    "  scalex = 1.0/(xs.max()- xs.min())\n",
    "  scaley = 1.0/(ys.max()- ys.min())\n",
    "  plt.scatter(xs*scalex,ys*scaley)\n",
    "  for i in range(n):\n",
    "    plt.arrow(0, 0, coeff[i,pca1], coeff[i,pca2],color='r',alpha=0.5)\n",
    "    if labels is None:\n",
    "      plt.text(coeff[i,pca1]* 1.15, coeff[i,pca2] * 1.15, \"Var\"+str(i+1), color='g', ha='center', va='center')\n",
    "    else:\n",
    "      plt.text(coeff[i,pca1]* 1.15, coeff[i,pca2] * 1.15, labels[i], color='g', ha='center', va='center')\n",
    "  plt.xlim(-1,1)\n",
    "  plt.ylim(-1,1)\n",
    "  plt.xlabel(\"PC{}\".format(pcax))\n",
    "  plt.ylabel(\"PC{}\".format(pcay))\n",
    "  plt.grid()\n",
    "biplot(result_pca, pca.components_, 1, 2, labels=X.columns)\n"
   ]
  },
  {
   "cell_type": "code",
   "execution_count": null,
   "metadata": {
    "id": "CNm78u_eDf0W"
   },
   "outputs": [],
   "source": [
    "import pandas as pd\n",
    "import openpyxl\n",
    "import matplotlib.pyplot as plot\n",
    "import sklearn\n",
    "from sklearn.linear_model import LinearRegression"
   ]
  },
  {
   "cell_type": "code",
   "execution_count": null,
   "metadata": {
    "colab": {
     "base_uri": "https://localhost:8080/",
     "height": 319
    },
    "id": "b4Tv53QnMShm",
    "outputId": "924c0eef-e59c-4b19-9938-8a09245a504b"
   },
   "outputs": [
    {
     "name": "stdout",
     "output_type": "stream",
     "text": [
      "가중치 a :  [[0.02273797 0.04317892 0.01284829 0.01199768 0.04386522 0.01221762]]\n",
      "y절편 :  [1.41332247]\n",
      "결정계수 :  0.7311359250254753\n"
     ]
    },
    {
     "data": {
      "image/png": "[encoded data removed]",
      "text/plain": [
       "<Figure size 432x288 with 1 Axes>"
      ]
     },
     "metadata": {
      "needs_background": "light"
     },
     "output_type": "display_data"
    }
   ],
   "source": [
    "# 분류: 로지스틱 회귀분석\n",
    "# 결정계수\n",
    "from re import M\n",
    "#속성(변수) 2가지 선택\n",
    "x = df_data[['food', 'kind', 'fresh', 'parking', 'price', 'clean']]\n",
    "y = df_data[['satisfaction']]\n",
    "\n",
    "\n",
    "#단순 회귀 모델 생성\n",
    "model = LinearRegression()\n",
    "model.fit(x, y)\n",
    "\n",
    "#예측 모델 생성\n",
    "y_p = model.predict(x)\n",
    "\n",
    "#가중치와 y절편 출력\n",
    "print('가중치 a : ', model.coef_)\n",
    "print('y절편 : ', model.intercept_)\n",
    "\n",
    "#결정계수\n",
    "relation_square = model.score(x, y)\n",
    "print('결정계수 : ', relation_square)\n",
    "\n",
    "#seaborn으로 나타내기\n",
    "import seaborn as sns\n",
    "ax1 = sns.distplot(y, hist = False, label = 'y실제')\n",
    "ax2 = sns.distplot(y_p, hist = False, label = 'y예측')\n",
    "plot.show()\n",
    "\n",
    "# 가중치 a :  [[0.04150279 0.93267499 0.02539494 0.97953547 0.00583932]]\n",
    "# M1 : 0.04150279 \n",
    "# M2 : 0.93267499\n",
    "# M3 : 0.02539494 \n",
    "# M4 : 0.97953547\n",
    "# M5 : 0.00583932\n",
    "# M5 > M2 > M1 > M3 > M4\n"
   ]
  },
  {
   "cell_type": "code",
   "execution_count": null,
   "metadata": {
    "colab": {
     "base_uri": "https://localhost:8080/"
    },
    "id": "64KFDgo6YkCP",
    "outputId": "3888116a-1d3e-4813-eed7-7a6ffc62570c"
   },
   "outputs": [
    {
     "name": "stdout",
     "output_type": "stream",
     "text": [
      "                            OLS Regression Results                            \n",
      "==============================================================================\n",
      "Dep. Variable:           satisfaction   R-squared:                       0.731\n",
      "Model:                            OLS   Adj. R-squared:                  0.724\n",
      "Method:                 Least Squares   F-statistic:                     109.7\n",
      "Date:                Fri, 17 Jun 2022   Prob (F-statistic):           3.80e-66\n",
      "Time:                        13:00:36   Log-Likelihood:                 132.36\n",
      "No. Observations:                 249   AIC:                            -250.7\n",
      "Df Residuals:                     242   BIC:                            -226.1\n",
      "Df Model:                           6                                         \n",
      "Covariance Type:            nonrobust                                         \n",
      "==============================================================================\n",
      "                 coef    std err          t      P>|t|      [0.025      0.975]\n",
      "------------------------------------------------------------------------------\n",
      "const          1.4133      1.217      1.161      0.247      -0.985       3.811\n",
      "food           0.0227      0.012      1.867      0.063      -0.001       0.047\n",
      "kind           0.0432      0.012      3.513      0.001       0.019       0.067\n",
      "fresh          0.0128      0.012      1.053      0.293      -0.011       0.037\n",
      "parking        0.0120      0.012      0.983      0.327      -0.012       0.036\n",
      "price          0.0439      0.012      3.595      0.000       0.020       0.068\n",
      "clean          0.0122      0.012      1.000      0.318      -0.012       0.036\n",
      "==============================================================================\n",
      "Omnibus:                      122.596   Durbin-Watson:                   0.742\n",
      "Prob(Omnibus):                  0.000   Jarque-Bera (JB):              463.293\n",
      "Skew:                          -2.133   Prob(JB):                    2.50e-101\n",
      "Kurtosis:                       8.144   Cond. No.                     7.17e+03\n",
      "==============================================================================\n",
      "\n",
      "Warnings:\n",
      "[1] Standard Errors assume that the covariance matrix of the errors is correctly specified.\n",
      "[2] The condition number is large, 7.17e+03. This might indicate that there are\n",
      "strong multicollinearity or other numerical problems.\n",
      "                            OLS Regression Results                            \n",
      "==============================================================================\n",
      "Dep. Variable:           satisfaction   R-squared:                       0.731\n",
      "Model:                            OLS   Adj. R-squared:                  0.724\n",
      "Method:                 Least Squares   F-statistic:                     109.7\n",
      "Date:                Fri, 17 Jun 2022   Prob (F-statistic):           3.80e-66\n",
      "Time:                        13:00:36   Log-Likelihood:                 132.36\n",
      "No. Observations:                 249   AIC:                            -250.7\n",
      "Df Residuals:                     242   BIC:                            -226.1\n",
      "Df Model:                           6                                         \n",
      "Covariance Type:            nonrobust                                         \n",
      "==============================================================================\n",
      "                 coef    std err          t      P>|t|      [0.025      0.975]\n",
      "------------------------------------------------------------------------------\n",
      "const          1.4133      1.217      1.161      0.247      -0.985       3.811\n",
      "food           0.0227      0.012      1.867      0.063      -0.001       0.047\n",
      "kind           0.0432      0.012      3.513      0.001       0.019       0.067\n",
      "fresh          0.0128      0.012      1.053      0.293      -0.011       0.037\n",
      "parking        0.0120      0.012      0.983      0.327      -0.012       0.036\n",
      "price          0.0439      0.012      3.595      0.000       0.020       0.068\n",
      "clean          0.0122      0.012      1.000      0.318      -0.012       0.036\n",
      "==============================================================================\n",
      "Omnibus:                      122.596   Durbin-Watson:                   0.742\n",
      "Prob(Omnibus):                  0.000   Jarque-Bera (JB):              463.293\n",
      "Skew:                          -2.133   Prob(JB):                    2.50e-101\n",
      "Kurtosis:                       8.144   Cond. No.                     7.17e+03\n",
      "==============================================================================\n",
      "\n",
      "Warnings:\n",
      "[1] Standard Errors assume that the covariance matrix of the errors is correctly specified.\n",
      "[2] The condition number is large, 7.17e+03. This might indicate that there are\n",
      "strong multicollinearity or other numerical problems.\n"
     ]
    }
   ],
   "source": [
    "# summary\n",
    "# https://datatofish.com/statsmodels-linear-regression/\n",
    "\n",
    "import statsmodels.api as sm\n",
    "\n",
    "X = df_data[['food', 'kind', 'fresh', 'parking', 'price', 'clean']]\n",
    "Y = df_data[['satisfaction']]\n",
    "\n",
    "X = sm.add_constant(X) # adding a constant\n",
    "\n",
    "model = sm.OLS(Y, X).fit()\n",
    "predictions = model.predict(X) \n",
    "\n",
    "print_model = model.summary()\n",
    "print(print_model)\n",
    "\n",
    "print_model = model.summary()\n",
    "print(print_model)"
   ]
  },
  {
   "cell_type": "code",
   "execution_count": null,
   "metadata": {
    "colab": {
     "base_uri": "https://localhost:8080/"
    },
    "id": "oGRzmaS7NhTd",
    "outputId": "1010c2a9-891e-4a74-9c27-aec505696fc0"
   },
   "outputs": [
    {
     "name": "stdout",
     "output_type": "stream",
     "text": [
      "F_onewayResult(statistic=array([4373.06701719]), pvalue=array([3.71638341e-248]))\n",
      "F_onewayResult(statistic=array([1085.46021399]), pvalue=array([5.60156784e-127]))\n",
      "F_onewayResult(statistic=array([572.39327931]), pvalue=array([1.10376698e-84]))\n",
      "F_onewayResult(statistic=array([87.57618348]), pvalue=array([2.8073111e-19]))\n",
      "F_onewayResult(statistic=array([145.44176693]), pvalue=array([1.50574286e-29]))\n",
      "F_onewayResult(statistic=array([50.834926]), pvalue=array([3.57112618e-12]))\n"
     ]
    }
   ],
   "source": [
    "# F분포\n",
    "import scipy as sp   # 과학 계산용 파이썬 모듈\n",
    "import scipy.stats as stats\n",
    "\n",
    "symbols = [['food', 'kind', 'fresh', 'parking', 'price', 'clean']]\n",
    "x1 = df_data[['food']]\n",
    "x2 = df_data[['kind']]\n",
    "x3 = df_data[['fresh']]\n",
    "x4 = df_data[['parking']]\n",
    "x5 = df_data[['price']]\n",
    "x6 = df_data[['clean']]\n",
    "y = df_data[['satisfaction']]\n",
    "\n",
    "from scipy.stats import f_oneway\n",
    "print( f_oneway( x1, y) ) \n",
    "print( f_oneway( x2, y) ) \n",
    "print( f_oneway( x3, y) ) \n",
    "print( f_oneway( x4, y) ) \n",
    "print( f_oneway( x5, y) ) \n",
    "print( f_oneway( x6, y) ) "
   ]
  },
  {
   "cell_type": "code",
   "execution_count": null,
   "metadata": {
    "id": "xH_gkOAWD0E7"
   },
   "outputs": [],
   "source": [
    "fvalues = np.array(x2)\n",
    "fvalues"
   ]
  },
  {
   "cell_type": "code",
   "execution_count": null,
   "metadata": {
    "colab": {
     "base_uri": "https://localhost:8080/",
     "height": 301
    },
    "id": "m8o0FXTJDbdj",
    "outputId": "334e466d-b048-4c63-c886-d5ac9df145d7"
   },
   "outputs": [
    {
     "name": "stdout",
     "output_type": "stream",
     "text": [
      "0.9064635296566765\n",
      "4.170876785766691\n"
     ]
    },
    {
     "data": {
      "image/png": "[encoded data removed]",
      "text/plain": [
       "<Figure size 432x288 with 1 Axes>"
      ]
     },
     "metadata": {
      "needs_background": "light"
     },
     "output_type": "display_data"
    }
   ],
   "source": [
    "import numpy as np\n",
    "from scipy.stats import f\n",
    "import matplotlib.pyplot as plt\n",
    "\n",
    "plt.plot(fvalues, f.pdf(fvalues, 1, 30), 'b-', label = \"F(1, 30)\")\n",
    "plt.plot(fvalues, f.pdf(fvalues, 5, 30), 'r-', label = \"F(5, 30)\")\n",
    "plt.legend()\n",
    "\n",
    "# cdf: Cumulative distribution function of F\n",
    "proba_at_f_inf_3 = f.cdf(3, 1, 30)\n",
    "print(proba_at_f_inf_3)\n",
    "\n",
    "# ppf(q, df1, df2): Percent point function (inverse of cdf) at q of F\n",
    "f_at_proba_inf_95 = f.ppf(0.95, 1, 30)\n",
    "print(f_at_proba_inf_95)\n",
    "\n",
    "# sf(x, df1, df2): Survival function (1 - cdf) at x of F.\n",
    "proba_at_f_sup_3 = f.sf(3, 1, 30) # P(F(1,30) > 3)\n",
    "assert proba_at_f_inf_3 + proba_at_f_sup_3 == 1\n",
    "\n",
    "# p-value: P(F(1, 30)) < 0.05\n",
    "low_proba_fvalues = fvalues[fvalues > f_at_proba_inf_95]\n",
    "plt.fill_between(low_proba_fvalues, 0, f.pdf(low_proba_fvalues, 1, 30), alpha=0.8, label = \"P < 0.05\")\n",
    "\n",
    "plt.show()"
   ]
  },
  {
   "cell_type": "code",
   "execution_count": null,
   "metadata": {
    "colab": {
     "base_uri": "https://localhost:8080/",
     "height": 301
    },
    "id": "ijSITcM3Eg-0",
    "outputId": "bb1e8531-b8e2-43f5-c697-9e4095ced76a"
   },
   "outputs": [
    {
     "name": "stdout",
     "output_type": "stream",
     "text": [
      "0.8860625878480797\n",
      "4.9646027437307145\n"
     ]
    },
    {
     "data": {
      "image/png": "[encoded data removed]",
      "text/plain": [
       "<Figure size 432x288 with 1 Axes>"
      ]
     },
     "metadata": {
      "needs_background": "light"
     },
     "output_type": "display_data"
    }
   ],
   "source": [
    "import numpy as np\n",
    "from scipy.stats import f\n",
    "import matplotlib.pyplot as plt\n",
    "\n",
    "plt.plot(fvalues, f.pdf(fvalues, 1, 10), 'b-', label = \"F(1, 10)\")\n",
    "plt.plot(fvalues, f.pdf(fvalues, 5, 10), 'r-', label = \"F(5, 10)\")\n",
    "plt.legend()\n",
    "\n",
    "# cdf: Cumulative distribution function of F\n",
    "proba_at_f_inf_3 = f.cdf(3, 1, 10)\n",
    "print(proba_at_f_inf_3)\n",
    "\n",
    "# ppf(q, df1, df2): Percent point function (inverse of cdf) at q of F\n",
    "f_at_proba_inf_95 = f.ppf(0.95, 1, 10)\n",
    "print(f_at_proba_inf_95)\n",
    "\n",
    "# sf(x, df1, df2): Survival function (1 - cdf) at x of F.\n",
    "proba_at_f_sup_3 = f.sf(3, 1, 10) # P(F(1,10) > 3)\n",
    "assert proba_at_f_inf_3 + proba_at_f_sup_3 == 1\n",
    "\n",
    "# p-value: P(F(1, 10)) < 0.05\n",
    "low_proba_fvalues = fvalues[fvalues > f_at_proba_inf_95]\n",
    "plt.fill_between(low_proba_fvalues, 0, f.pdf(low_proba_fvalues, 1, 15), alpha=0.8, label = \"P < 0.05\")\n",
    "\n",
    "plt.show()"
   ]
  },
  {
   "cell_type": "code",
   "execution_count": null,
   "metadata": {
    "colab": {
     "base_uri": "https://localhost:8080/"
    },
    "id": "nE3RQQc3bg5g",
    "outputId": "17737901-3ca3-450f-fae3-c8a242f52afe"
   },
   "outputs": [
    {
     "name": "stdout",
     "output_type": "stream",
     "text": [
      "Looking in indexes: https://pypi.org/simple, https://us-python.pkg.dev/colab-wheels/public/simple/\n",
      "Requirement already satisfied: bioinfokit in /usr/local/lib/python3.7/dist-packages (2.0.8)\n",
      "Requirement already satisfied: matplotlib in /usr/local/lib/python3.7/dist-packages (from bioinfokit) (3.2.2)\n",
      "Requirement already satisfied: textwrap3 in /usr/local/lib/python3.7/dist-packages (from bioinfokit) (0.9.2)\n",
      "Requirement already satisfied: tabulate in /usr/local/lib/python3.7/dist-packages (from bioinfokit) (0.8.9)\n",
      "Requirement already satisfied: adjustText in /usr/local/lib/python3.7/dist-packages (from bioinfokit) (0.7.3)\n",
      "Requirement already satisfied: scikit-learn in /usr/local/lib/python3.7/dist-packages (from bioinfokit) (1.0.2)\n",
      "Requirement already satisfied: pandas in /usr/local/lib/python3.7/dist-packages (from bioinfokit) (1.3.5)\n",
      "Requirement already satisfied: seaborn in /usr/local/lib/python3.7/dist-packages (from bioinfokit) (0.11.2)\n",
      "Requirement already satisfied: statsmodels in /usr/local/lib/python3.7/dist-packages (from bioinfokit) (0.10.2)\n",
      "Requirement already satisfied: scipy in /usr/local/lib/python3.7/dist-packages (from bioinfokit) (1.4.1)\n",
      "Requirement already satisfied: numpy in /usr/local/lib/python3.7/dist-packages (from bioinfokit) (1.21.6)\n",
      "Requirement already satisfied: matplotlib-venn in /usr/local/lib/python3.7/dist-packages (from bioinfokit) (0.11.7)\n",
      "Requirement already satisfied: pyparsing!=2.0.4,!=2.1.2,!=2.1.6,>=2.0.1 in /usr/local/lib/python3.7/dist-packages (from matplotlib->bioinfokit) (3.0.9)\n",
      "Requirement already satisfied: kiwisolver>=1.0.1 in /usr/local/lib/python3.7/dist-packages (from matplotlib->bioinfokit) (1.4.2)\n",
      "Requirement already satisfied: python-dateutil>=2.1 in /usr/local/lib/python3.7/dist-packages (from matplotlib->bioinfokit) (2.8.2)\n",
      "Requirement already satisfied: cycler>=0.10 in /usr/local/lib/python3.7/dist-packages (from matplotlib->bioinfokit) (0.11.0)\n",
      "Requirement already satisfied: typing-extensions in /usr/local/lib/python3.7/dist-packages (from kiwisolver>=1.0.1->matplotlib->bioinfokit) (4.2.0)\n",
      "Requirement already satisfied: six>=1.5 in /usr/local/lib/python3.7/dist-packages (from python-dateutil>=2.1->matplotlib->bioinfokit) (1.15.0)\n",
      "Requirement already satisfied: pytz>=2017.3 in /usr/local/lib/python3.7/dist-packages (from pandas->bioinfokit) (2022.1)\n",
      "Requirement already satisfied: joblib>=0.11 in /usr/local/lib/python3.7/dist-packages (from scikit-learn->bioinfokit) (1.1.0)\n",
      "Requirement already satisfied: threadpoolctl>=2.0.0 in /usr/local/lib/python3.7/dist-packages (from scikit-learn->bioinfokit) (3.1.0)\n",
      "Requirement already satisfied: patsy>=0.4.0 in /usr/local/lib/python3.7/dist-packages (from statsmodels->bioinfokit) (0.5.2)\n"
     ]
    }
   ],
   "source": [
    "!pip install bioinfokit"
   ]
  },
  {
   "cell_type": "code",
   "execution_count": null,
   "metadata": {
    "colab": {
     "base_uri": "https://localhost:8080/",
     "height": 583
    },
    "id": "XXADW6zEc4cX",
    "outputId": "732bde23-4b10-4017-921c-af3d7b2ea37f"
   },
   "outputs": [
    {
     "data": {
      "text/html": [
       "<table class=\"simpletable\">\n",
       "<caption>OLS Regression Results</caption>\n",
       "<tr>\n",
       "  <th>Dep. Variable:</th>      <td>satisfaction</td>   <th>  R-squared:         </th> <td>   0.731</td>\n",
       "</tr>\n",
       "<tr>\n",
       "  <th>Model:</th>                   <td>OLS</td>       <th>  Adj. R-squared:    </th> <td>   0.724</td>\n",
       "</tr>\n",
       "<tr>\n",
       "  <th>Method:</th>             <td>Least Squares</td>  <th>  F-statistic:       </th> <td>   109.7</td>\n",
       "</tr>\n",
       "<tr>\n",
       "  <th>Date:</th>             <td>Fri, 17 Jun 2022</td> <th>  Prob (F-statistic):</th> <td>3.80e-66</td>\n",
       "</tr>\n",
       "<tr>\n",
       "  <th>Time:</th>                 <td>13:00:39</td>     <th>  Log-Likelihood:    </th> <td>  132.36</td>\n",
       "</tr>\n",
       "<tr>\n",
       "  <th>No. Observations:</th>      <td>   249</td>      <th>  AIC:               </th> <td>  -250.7</td>\n",
       "</tr>\n",
       "<tr>\n",
       "  <th>Df Residuals:</th>          <td>   242</td>      <th>  BIC:               </th> <td>  -226.1</td>\n",
       "</tr>\n",
       "<tr>\n",
       "  <th>Df Model:</th>              <td>     6</td>      <th>                     </th>     <td> </td>   \n",
       "</tr>\n",
       "<tr>\n",
       "  <th>Covariance Type:</th>      <td>nonrobust</td>    <th>                     </th>     <td> </td>   \n",
       "</tr>\n",
       "</table>\n",
       "<table class=\"simpletable\">\n",
       "<tr>\n",
       "      <td></td>         <th>coef</th>     <th>std err</th>      <th>t</th>      <th>P>|t|</th>  <th>[0.025</th>    <th>0.975]</th>  \n",
       "</tr>\n",
       "<tr>\n",
       "  <th>Intercept</th> <td>    1.4133</td> <td>    1.217</td> <td>    1.161</td> <td> 0.247</td> <td>   -0.985</td> <td>    3.811</td>\n",
       "</tr>\n",
       "<tr>\n",
       "  <th>food</th>      <td>    0.0227</td> <td>    0.012</td> <td>    1.867</td> <td> 0.063</td> <td>   -0.001</td> <td>    0.047</td>\n",
       "</tr>\n",
       "<tr>\n",
       "  <th>kind</th>      <td>    0.0432</td> <td>    0.012</td> <td>    3.513</td> <td> 0.001</td> <td>    0.019</td> <td>    0.067</td>\n",
       "</tr>\n",
       "<tr>\n",
       "  <th>fresh</th>     <td>    0.0128</td> <td>    0.012</td> <td>    1.053</td> <td> 0.293</td> <td>   -0.011</td> <td>    0.037</td>\n",
       "</tr>\n",
       "<tr>\n",
       "  <th>parking</th>   <td>    0.0120</td> <td>    0.012</td> <td>    0.983</td> <td> 0.327</td> <td>   -0.012</td> <td>    0.036</td>\n",
       "</tr>\n",
       "<tr>\n",
       "  <th>price</th>     <td>    0.0439</td> <td>    0.012</td> <td>    3.595</td> <td> 0.000</td> <td>    0.020</td> <td>    0.068</td>\n",
       "</tr>\n",
       "<tr>\n",
       "  <th>clean</th>     <td>    0.0122</td> <td>    0.012</td> <td>    1.000</td> <td> 0.318</td> <td>   -0.012</td> <td>    0.036</td>\n",
       "</tr>\n",
       "</table>\n",
       "<table class=\"simpletable\">\n",
       "<tr>\n",
       "  <th>Omnibus:</th>       <td>122.596</td> <th>  Durbin-Watson:     </th> <td>   0.742</td> \n",
       "</tr>\n",
       "<tr>\n",
       "  <th>Prob(Omnibus):</th> <td> 0.000</td>  <th>  Jarque-Bera (JB):  </th> <td> 463.293</td> \n",
       "</tr>\n",
       "<tr>\n",
       "  <th>Skew:</th>          <td>-2.133</td>  <th>  Prob(JB):          </th> <td>2.50e-101</td>\n",
       "</tr>\n",
       "<tr>\n",
       "  <th>Kurtosis:</th>      <td> 8.144</td>  <th>  Cond. No.          </th> <td>7.17e+03</td> \n",
       "</tr>\n",
       "</table><br/><br/>Warnings:<br/>[1] Standard Errors assume that the covariance matrix of the errors is correctly specified.<br/>[2] The condition number is large, 7.17e+03. This might indicate that there are<br/>strong multicollinearity or other numerical problems."
      ],
      "text/plain": [
       "<class 'statsmodels.iolib.summary.Summary'>\n",
       "\"\"\"\n",
       "                            OLS Regression Results                            \n",
       "==============================================================================\n",
       "Dep. Variable:           satisfaction   R-squared:                       0.731\n",
       "Model:                            OLS   Adj. R-squared:                  0.724\n",
       "Method:                 Least Squares   F-statistic:                     109.7\n",
       "Date:                Fri, 17 Jun 2022   Prob (F-statistic):           3.80e-66\n",
       "Time:                        13:00:39   Log-Likelihood:                 132.36\n",
       "No. Observations:                 249   AIC:                            -250.7\n",
       "Df Residuals:                     242   BIC:                            -226.1\n",
       "Df Model:                           6                                         \n",
       "Covariance Type:            nonrobust                                         \n",
       "==============================================================================\n",
       "                 coef    std err          t      P>|t|      [0.025      0.975]\n",
       "------------------------------------------------------------------------------\n",
       "Intercept      1.4133      1.217      1.161      0.247      -0.985       3.811\n",
       "food           0.0227      0.012      1.867      0.063      -0.001       0.047\n",
       "kind           0.0432      0.012      3.513      0.001       0.019       0.067\n",
       "fresh          0.0128      0.012      1.053      0.293      -0.011       0.037\n",
       "parking        0.0120      0.012      0.983      0.327      -0.012       0.036\n",
       "price          0.0439      0.012      3.595      0.000       0.020       0.068\n",
       "clean          0.0122      0.012      1.000      0.318      -0.012       0.036\n",
       "==============================================================================\n",
       "Omnibus:                      122.596   Durbin-Watson:                   0.742\n",
       "Prob(Omnibus):                  0.000   Jarque-Bera (JB):              463.293\n",
       "Skew:                          -2.133   Prob(JB):                    2.50e-101\n",
       "Kurtosis:                       8.144   Cond. No.                     7.17e+03\n",
       "==============================================================================\n",
       "\n",
       "Warnings:\n",
       "[1] Standard Errors assume that the covariance matrix of the errors is correctly specified.\n",
       "[2] The condition number is large, 7.17e+03. This might indicate that there are\n",
       "strong multicollinearity or other numerical problems.\n",
       "\"\"\""
      ]
     },
     "execution_count": 183,
     "metadata": {},
     "output_type": "execute_result"
    }
   ],
   "source": [
    "# 회귀분석\n",
    "from statsmodels.formula.api import ols\n",
    "model = ols('satisfaction ~ food + kind + fresh + parking + price + clean', df_data)\n",
    "res = model.fit()\n",
    "res.summary()"
   ]
  },
  {
   "cell_type": "code",
   "execution_count": null,
   "metadata": {
    "colab": {
     "base_uri": "https://localhost:8080/",
     "height": 237
    },
    "id": "a_b_naRncGx4",
    "outputId": "7aa0b434-6164-4b67-d6e1-0a849fa2fe07"
   },
   "outputs": [
    {
     "data": {
      "text/html": [
       "\n",
       "  <div id=\"df-7fd01c1e-6464-49b9-acf3-ecfaa13d78c9\">\n",
       "    <div class=\"colab-df-container\">\n",
       "      <div>\n",
       "<style scoped>\n",
       "    .dataframe tbody tr th:only-of-type {\n",
       "        vertical-align: middle;\n",
       "    }\n",
       "\n",
       "    .dataframe tbody tr th {\n",
       "        vertical-align: top;\n",
       "    }\n",
       "\n",
       "    .dataframe thead th {\n",
       "        text-align: right;\n",
       "    }\n",
       "</style>\n",
       "<table border=\"1\" class=\"dataframe\">\n",
       "  <thead>\n",
       "    <tr style=\"text-align: right;\">\n",
       "      <th></th>\n",
       "      <th>컬럼</th>\n",
       "      <th>VIF</th>\n",
       "    </tr>\n",
       "  </thead>\n",
       "  <tbody>\n",
       "    <tr>\n",
       "      <th>0</th>\n",
       "      <td>food</td>\n",
       "      <td>185.812066</td>\n",
       "    </tr>\n",
       "    <tr>\n",
       "      <th>1</th>\n",
       "      <td>kind</td>\n",
       "      <td>68.494472</td>\n",
       "    </tr>\n",
       "    <tr>\n",
       "      <th>2</th>\n",
       "      <td>fresh</td>\n",
       "      <td>71.098256</td>\n",
       "    </tr>\n",
       "    <tr>\n",
       "      <th>3</th>\n",
       "      <td>parking</td>\n",
       "      <td>100.662702</td>\n",
       "    </tr>\n",
       "    <tr>\n",
       "      <th>4</th>\n",
       "      <td>price</td>\n",
       "      <td>57.870310</td>\n",
       "    </tr>\n",
       "    <tr>\n",
       "      <th>5</th>\n",
       "      <td>clean</td>\n",
       "      <td>44.767619</td>\n",
       "    </tr>\n",
       "  </tbody>\n",
       "</table>\n",
       "</div>\n",
       "      <button class=\"colab-df-convert\" onclick=\"convertToInteractive('df-7fd01c1e-6464-49b9-acf3-ecfaa13d78c9')\"\n",
       "              title=\"Convert this dataframe to an interactive table.\"\n",
       "              style=\"display:none;\">\n",
       "        \n",
       "  <svg xmlns=\"http://www.w3.org/2000/svg\" height=\"24px\"viewBox=\"0 0 24 24\"\n",
       "       width=\"24px\">\n",
       "    <path d=\"M0 0h24v24H0V0z\" fill=\"none\"/>\n",
       "    <path d=\"M18.56 5.44l.94 2.06.94-2.06 2.06-.94-2.06-.94-.94-2.06-.94 2.06-2.06.94zm-11 1L8.5 8.5l.94-2.06 2.06-.94-2.06-.94L8.5 2.5l-.94 2.06-2.06.94zm10 10l.94 2.06.94-2.06 2.06-.94-2.06-.94-.94-2.06-.94 2.06-2.06.94z\"/><path d=\"M17.41 7.96l-1.37-1.37c-.4-.4-.92-.59-1.43-.59-.52 0-1.04.2-1.43.59L10.3 9.45l-7.72 7.72c-.78.78-.78 2.05 0 2.83L4 21.41c.39.39.9.59 1.41.59.51 0 1.02-.2 1.41-.59l7.78-7.78 2.81-2.81c.8-.78.8-2.07 0-2.86zM5.41 20L4 18.59l7.72-7.72 1.47 1.35L5.41 20z\"/>\n",
       "  </svg>\n",
       "      </button>\n",
       "      \n",
       "  <style>\n",
       "    .colab-df-container {\n",
       "      display:flex;\n",
       "      flex-wrap:wrap;\n",
       "      gap: 12px;\n",
       "    }\n",
       "\n",
       "    .colab-df-convert {\n",
       "      background-color: #E8F0FE;\n",
       "      border: none;\n",
       "      border-radius: 50%;\n",
       "      cursor: pointer;\n",
       "      display: none;\n",
       "      fill: #1967D2;\n",
       "      height: 32px;\n",
       "      padding: 0 0 0 0;\n",
       "      width: 32px;\n",
       "    }\n",
       "\n",
       "    .colab-df-convert:hover {\n",
       "      background-color: #E2EBFA;\n",
       "      box-shadow: 0px 1px 2px rgba(60, 64, 67, 0.3), 0px 1px 3px 1px rgba(60, 64, 67, 0.15);\n",
       "      fill: #174EA6;\n",
       "    }\n",
       "\n",
       "    [theme=dark] .colab-df-convert {\n",
       "      background-color: #3B4455;\n",
       "      fill: #D2E3FC;\n",
       "    }\n",
       "\n",
       "    [theme=dark] .colab-df-convert:hover {\n",
       "      background-color: #434B5C;\n",
       "      box-shadow: 0px 1px 3px 1px rgba(0, 0, 0, 0.15);\n",
       "      filter: drop-shadow(0px 1px 2px rgba(0, 0, 0, 0.3));\n",
       "      fill: #FFFFFF;\n",
       "    }\n",
       "  </style>\n",
       "\n",
       "      <script>\n",
       "        const buttonEl =\n",
       "          document.querySelector('#df-7fd01c1e-6464-49b9-acf3-ecfaa13d78c9 button.colab-df-convert');\n",
       "        buttonEl.style.display =\n",
       "          google.colab.kernel.accessAllowed ? 'block' : 'none';\n",
       "\n",
       "        async function convertToInteractive(key) {\n",
       "          const element = document.querySelector('#df-7fd01c1e-6464-49b9-acf3-ecfaa13d78c9');\n",
       "          const dataTable =\n",
       "            await google.colab.kernel.invokeFunction('convertToInteractive',\n",
       "                                                     [key], {});\n",
       "          if (!dataTable) return;\n",
       "\n",
       "          const docLinkHtml = 'Like what you see? Visit the ' +\n",
       "            '<a target=\"_blank\" href=https://colab.research.google.com/notebooks/data_table.ipynb>data table notebook</a>'\n",
       "            + ' to learn more about interactive tables.';\n",
       "          element.innerHTML = '';\n",
       "          dataTable['output_type'] = 'display_data';\n",
       "          await google.colab.output.renderOutput(dataTable, element);\n",
       "          const docLink = document.createElement('div');\n",
       "          docLink.innerHTML = docLinkHtml;\n",
       "          element.appendChild(docLink);\n",
       "        }\n",
       "      </script>\n",
       "    </div>\n",
       "  </div>\n",
       "  "
      ],
      "text/plain": [
       "        컬럼         VIF\n",
       "0     food  185.812066\n",
       "1     kind   68.494472\n",
       "2    fresh   71.098256\n",
       "3  parking  100.662702\n",
       "4    price   57.870310\n",
       "5    clean   44.767619"
      ]
     },
     "execution_count": 184,
     "metadata": {},
     "output_type": "execute_result"
    }
   ],
   "source": [
    "# VIF\n",
    "from statsmodels.stats.outliers_influence import variance_inflation_factor\n",
    "model.exog_names\n",
    "# X의 1번째 독립변수 sat의 VIF를 계산한다.\n",
    "variance_inflation_factor(model.exog, 1)\n",
    "variance_inflation_factor(model.exog, 2)\n",
    "variance_inflation_factor(model.exog, 3)\n",
    "variance_inflation_factor(model.exog, 4)\n",
    "pd.DataFrame({'컬럼': column, 'VIF': variance_inflation_factor(model.exog, i)} \n",
    "             for i, column in enumerate(model.exog_names)\n",
    "             if column != 'Intercept')  # 절편의 VIF는 구하지 않는다."
   ]
  },
  {
   "cell_type": "code",
   "execution_count": null,
   "metadata": {
    "id": "xziHVxzXVmS0"
   },
   "outputs": [],
   "source": [
    "import scipy.stats as stats\n",
    "import pandas as pd\n",
    "import urllib\n",
    "from statsmodels.formula.api import ols\n",
    "from statsmodels.stats.anova import anova_lm\n",
    "import matplotlib.pyplot as plt\n",
    "import numpy as np\n",
    "%matplotlib inline"
   ]
  },
  {
   "cell_type": "code",
   "execution_count": null,
   "metadata": {
    "colab": {
     "base_uri": "https://localhost:8080/"
    },
    "id": "XcGhLav6XJmK",
    "outputId": "7923d8d4-15f4-4bc1-9d32-cdeaaba2014f"
   },
   "outputs": [
    {
     "name": "stdout",
     "output_type": "stream",
     "text": [
      "             df        sum_sq     mean_sq         F    PR(>F)\n",
      "C(kind)    30.0   7107.296861  236.909895  2.722589  0.000015\n",
      "Residual  218.0  18969.578641   87.016416       NaN       NaN\n",
      "             df       sum_sq    mean_sq         F    PR(>F)\n",
      "C(fresh)   29.0   972.211999  33.524552  0.867984  0.664364\n",
      "Residual  219.0  8458.534989  38.623447       NaN       NaN\n",
      "             df        sum_sq    mean_sq         F    PR(>F)\n",
      "C(price)   25.0   2188.071538  87.522862  1.645816  0.031587\n",
      "Residual  223.0  11858.916414  53.178997       NaN       NaN\n"
     ]
    }
   ],
   "source": [
    "# https://partrita.github.io/posts/ANOVA-python/\n",
    "# Statsmodel을 사용한 일원분산분석\n",
    "# 경고 메세지 무시하기\n",
    "import warnings\n",
    "warnings.filterwarnings('ignore')\n",
    "\n",
    "df = pd.DataFrame(df_data, columns=['food', 'kind', 'fresh', 'parking', 'price', 'clean'])    \n",
    "\n",
    "# the \"C\" indicates categorical data\n",
    "model = ols('food ~ C(kind)', df).fit()\n",
    "print(anova_lm(model))\n",
    "\n",
    "model = ols('kind ~ C(fresh)', df).fit()\n",
    "print(anova_lm(model))\n",
    "\n",
    "model = ols('parking ~ C(price)', df).fit()\n",
    "print(anova_lm(model))"
   ]
  }
 ],
 "metadata": {
  "colab": {
   "collapsed_sections": [],
   "name": "regression.ipynb",
   "provenance": []
  },
  "kernelspec": {
   "display_name": "Python 3 (ipykernel)",
   "language": "python",
   "name": "python3"
  },
  "language_info": {
   "codemirror_mode": {
    "name": "ipython",
    "version": 3
   },
   "file_extension": ".py",
   "mimetype": "text/x-python",
   "name": "python",
   "nbconvert_exporter": "python",
   "pygments_lexer": "ipython3",
   "version": "3.8.13"
  }
 },
 "nbformat": 4,
 "nbformat_minor": 1
}
